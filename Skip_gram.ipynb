{
 "cells": [
  {
   "cell_type": "code",
   "execution_count": 1,
   "id": "3b1f61bd-9cf2-40f3-baa5-8dd4e6ad566f",
   "metadata": {
    "colab": {
     "base_uri": "https://localhost:8080/",
     "height": 383
    },
    "id": "3b1f61bd-9cf2-40f3-baa5-8dd4e6ad566f",
    "outputId": "46716df6-f175-4eca-dc2a-4b7f52222dab"
   },
   "outputs": [
    {
     "name": "stdout",
     "output_type": "stream",
     "text": [
      "Số đoạn văn: 2240\n",
      "Đoạn đầu tiên: Bên trong xe là tiếng nhạc ầm ĩ, mùi rượu cay nồng và 4-5 người đàn ông sẵn sàng thách thức bất kỳ ai dám đối đầu Nạn nhân may mắn không bị thương, những người trên xe sau đó bỏ đi với vẻ bất cần, còn anh Thanh ở lại hỏi han người bị nạn và cho số điện thoại để sẵn sàng ra làm chứng khi cần.\n",
      "Đoạn thứ hai: Hoàng Thanh chia sẻ, việc anh làm bị nhiều người cho là liều lĩnh, nhưng bản thân anh lúc đó cũng không đủ thời gian để suy nghĩ, cân nhắc nhiều mà chỉ nghĩ rằng cần phải làm gì đó giúp đỡ người bị nạn và yêu cầu người gây ra lỗi có trách nhiệm với hành vi của mình.\n"
     ]
    }
   ],
   "source": [
    "import pandas as pd\n",
    "import re\n",
    "from pyvi import ViTokenizer\n",
    "from collections import Counter\n",
    "\n",
    "file_path = \"data.txt\"  # Đường dẫn tới file của bạn\n",
    "\n",
    "# Đọc file và tách các đoạn văn\n",
    "with open(file_path, 'r', encoding='utf-8') as file:\n",
    "    content = file.read()\n",
    "\n",
    "# Tách các đoạn văn dựa trên ký tự xuống dòng\n",
    "all_content = content.split('\\n')\n",
    "\n",
    "# Loại bỏ các đoạn trống hoặc chỉ chứa khoảng trắng\n",
    "all_content = [para.strip() for para in all_content if para.strip()]\n",
    "\n",
    "# In số lượng đoạn văn và nội dung của một số đoạn\n",
    "print(f\"Số đoạn văn: {len(all_content)}\")\n",
    "print(\"Đoạn đầu tiên:\", all_content[0])\n",
    "if len(all_content) > 1:\n",
    "    print(\"Đoạn thứ hai:\", all_content[1])"
   ]
  },
  {
   "cell_type": "code",
   "execution_count": 2,
   "id": "0afcb714-8bcb-47a6-9281-0863542f7a29",
   "metadata": {
    "id": "0afcb714-8bcb-47a6-9281-0863542f7a29"
   },
   "outputs": [],
   "source": [
    "# stop words\n",
    "stop_words = set([\n",
    "    \"tôi\", \"bạn\", \"mình\", \"chúng\", \"họ\", \"ấy\", \"này\", \"đó\", \"kia\", \"nào\", \"mỗi\", \"tất cả\", \"vài\", \"một\",\n",
    "    \"cái\", \"các\", \"những\", \"của\", \"với\", \"từ\", \"bởi\", \"và\", \"nhưng\", \"hoặc\", \"vì vậy\", \"tuy nhiên\", \"mặc dù\",\n",
    "    \"nên\", \"khi\", \"là\", \"không\", \"có\", \"đã\", \"đang\", \"sẽ\", \"thì\", \"hôm nay\", \"ngày mai\", \"hôm qua\", \"bây giờ\",\n",
    "    \"lâu\", \"gần đây\", \"nơi\", \"đâu\", \"đây\", \"đó\", \"kia\", \"rất\", \"khá\", \"ít\", \"nhiều\", \"tất\", \"hoàn toàn\",\n",
    "    \"một chút\", \"lên\", \"xuống\", \"ra\", \"vào\", \"đi\", \"đến\", \"gì\", \"sao\", \"thế nào\", \"bao nhiêu\", \"bao lâu\",\n",
    "    \"với\", \"mà\", \"cũng\", \"như\", \"của\", \"vì\", \"nếu\", \"sau\", \"trước\", \"để\", \"khi nào\", \"trong\", \"lại\", \"bạn\",\n",
    "    \"có thể\", \"chỉ\", \"có\", \"mới\", \"thêm\", \"nhất\", \"cũng\", \"vẫn\", \"nữa\", \"còn\", \"một\", \"lại\", \"cùng\", \"bắt đầu\",\n",
    "    \"để\", \"sẽ\", \"theo\", \"với\", \"có thể\", \"sẽ\", \"vừa\", \"có lẽ\", \"vậy\", \"mới\", \"như vậy\", \"hầu hết\", \"thậm chí\",\n",
    "    \"điều này\", \"thực tế\", \"nếu như\", \"vậy là\", \"thực sự\", \"hoàn toàn\", \"chẳng hạn\", \"một lần nữa\", \"và cả\"\n",
    "])\n",
    "\n",
    "# Hàm tiền xử lý văn bản\n",
    "def preprocess_text(text):\n",
    "    if not isinstance(text, str):\n",
    "        return \"\"\n",
    "    # Loại bỏ ký tự đặc biệt, số, dấu câu\n",
    "    text = re.sub(r'[^\\w\\s]', '', text)  # Xóa dấu câu\n",
    "    text = re.sub(r'\\d+', '', text)      # Xóa số\n",
    "    text = re.sub(r'\\s+', ' ', text).strip()  # Xóa khoảng trắng thừa\n",
    "    text = text.lower()# Chuyển chữ thường\n",
    "    text = ViTokenizer.tokenize(text)# Tách từ bằng pyvi\n",
    "    # Loại bỏ stopwords\n",
    "    words = text.split()  # Tách từ đã được tokenize\n",
    "    words = [word for word in words if word not in stop_words]\n",
    "\n",
    "    return ' '.join(words)"
   ]
  },
  {
   "cell_type": "code",
   "execution_count": 3,
   "id": "6fd3cc49-b0e2-4a3b-b0d9-5103ff626589",
   "metadata": {
    "id": "6fd3cc49-b0e2-4a3b-b0d9-5103ff626589"
   },
   "outputs": [
    {
     "name": "stdout",
     "output_type": "stream",
     "text": [
      "Số lượng đoạn văn sau tiền xử lý: 2240\n",
      "Một số dữ liệu sau tiền xử lý: ['bên xe tiếng nhạc ầm_ĩ mùi rượu cay nồng người đàn_ông sẵn_sàng thách_thức bất_kỳ ai dám đối_đầu nạn_nhân may_mắn bị_thương người trên xe bỏ vẻ bất_cần anh thanh ở hỏi_han người bị nạn cho số điện_thoại sẵn_sàng làm_chứng cần', 'hoàng thanh chia_sẻ việc anh làm bị người cho liều_lĩnh bản_thân anh lúc đủ thời_gian suy_nghĩ cân_nhắc nghĩ rằng cần phải làm giúp_đỡ người bị nạn yêu_cầu người gây lỗi trách_nhiệm hành_vi', 'anh nguyễn hoàng thanh trái bắt_tay phóng_viên báo an_ninh thủ_đô chàng sinh_viên làm_việc thiện ngại gặp quần_áo bẩn đầu tháng_một vụ tai_nạn giao_thông nghiêm_trọng xảy khiến nạn_nhân người đàn_ông trung_niên nhập_viện cần phải phẫu_thuật', 'nghĩ cuộc_sống khó tránh khỏi nốt trầm màu buồn u_tối khoảnh_khắc giận_dữ bức_xúc bỏ_qua mọi thứ tiêu_cực con_người tràn_đầy sức_sống sẵn_sàng lan_tỏa năng_lượng tích_cực thông_qua nụ cười ánh mắt hành_động ý_nghĩa', 'thấy bị mụn quan_tâm dập lửa số tìm_kiếm loại thực_phẩm chức_năng được quảng_cáo detox thải lọc độc_tố giải_trừ mụn tuyệt_nhiên cách rẻ_tiền tự_thân làm được mấy ai chú_ý tới vẻ thờ_ơ coi_thường mấy thực_hiện']\n",
      "Tiền xử lý hoàn tất.\n"
     ]
    }
   ],
   "source": [
    "# Áp dụng tiền xử lý cho tất cả dữ liệu\n",
    "all_content = [preprocess_text(text) for text in all_content]\n",
    "\n",
    "# Loại bỏ các hàng rỗng sau khi xử lý\n",
    "all_content = [text for text in all_content if text != \"\"]\n",
    "\n",
    "# Xuất dữ liệu đã tiền xử lý\n",
    "print(\"Số lượng đoạn văn sau tiền xử lý:\", len(all_content))\n",
    "print(\"Một số dữ liệu sau tiền xử lý:\", all_content[:5])\n",
    "print(\"Tiền xử lý hoàn tất.\")"
   ]
  },
  {
   "cell_type": "code",
   "execution_count": 6,
   "id": "652dda1e-c8f5-491f-8555-2f86b33f05fe",
   "metadata": {
    "id": "652dda1e-c8f5-491f-8555-2f86b33f05fe"
   },
   "outputs": [
    {
     "name": "stdout",
     "output_type": "stream",
     "text": [
      "Từ điển chứa 9275 từ\n",
      "10 từ phổ biến nhất [('người', 1180), ('cho', 1168), ('được', 963), ('ở', 537), ('về', 533), ('làm', 461), ('phải', 456), ('có_thể', 449), ('bị', 437), ('anh', 411)]\n"
     ]
    }
   ],
   "source": [
    "# Tạo từ điển (vocabulary)\n",
    "all_words = ' '.join(all_content).split()\n",
    "word_counts = Counter(all_words)\n",
    "\n",
    "# Tạo từ điển: Chỉ giữ những từ có tần suất xuất hiện lớn hơn một ngưỡng nhất định\n",
    "vocabulary = {\n",
    "    word: idx\n",
    "    for idx, (word, count) in enumerate(word_counts.items()) }\n",
    "\n",
    "print(f\"Từ điển chứa {len(vocabulary)} từ\")\n",
    "print(f\"10 từ phổ biến nhất {word_counts.most_common(10)}\")"
   ]
  },
  {
   "cell_type": "code",
   "execution_count": 7,
   "id": "a67689dd-3a8f-44f4-a6ab-ac0dd2cb36f5",
   "metadata": {
    "id": "a67689dd-3a8f-44f4-a6ab-ac0dd2cb36f5"
   },
   "outputs": [
    {
     "name": "stdout",
     "output_type": "stream",
     "text": [
      "Lưu từ điển hoàn tất.\n"
     ]
    }
   ],
   "source": [
    "# Lưu từ điển vào file\n",
    "with open('vocabulary.txt', 'w', encoding='utf-8') as f:\n",
    "    for word, idx in vocabulary.items():\n",
    "        f.write(f\"{word} {idx} {word_counts[word]}\\n\")\n",
    "\n",
    "print(\"Lưu từ điển hoàn tất.\")"
   ]
  },
  {
   "cell_type": "code",
   "execution_count": 15,
   "id": "f29d2373-bfb0-45e8-ba7c-1758a38c0266",
   "metadata": {
    "id": "f29d2373-bfb0-45e8-ba7c-1758a38c0266"
   },
   "outputs": [
    {
     "name": "stdout",
     "output_type": "stream",
     "text": [
      "Số lượng cặp Skip-Gram: 477078\n"
     ]
    }
   ],
   "source": [
    "# Tạo dữ liệu Skip-Gram\n",
    "def generate_skip_gram_pairs(sentence, window_size=3):\n",
    "    words = sentence.split()\n",
    "    pairs = []\n",
    "    for center_idx in range(len(words)):\n",
    "        center_word = words[center_idx]\n",
    "        start_idx = max(center_idx - window_size, 0)\n",
    "        end_idx = min(center_idx + window_size + 1, len(words))\n",
    "        for context_idx in range(start_idx, end_idx):\n",
    "            if context_idx != center_idx:\n",
    "                pairs.append((center_word, words[context_idx]))\n",
    "    return pairs\n",
    "\n",
    "skip_gram_data = []\n",
    "for sentence in all_content:\n",
    "    skip_gram_data.extend(generate_skip_gram_pairs(sentence))\n",
    "\n",
    "print(f\"Số lượng cặp Skip-Gram: {len(skip_gram_data)}\")"
   ]
  },
  {
   "cell_type": "code",
   "execution_count": 17,
   "id": "0e60f694-26e2-42b1-a076-bfbb3fd118b8",
   "metadata": {
    "id": "0e60f694-26e2-42b1-a076-bfbb3fd118b8"
   },
   "outputs": [
    {
     "name": "stdout",
     "output_type": "stream",
     "text": [
      "Số lượng Skip-Gram sau khi chuyển đổi thành chỉ số: 477078\n",
      "Lưu dữ liệu Skip-Gram hoàn tất.\n"
     ]
    }
   ],
   "source": [
    "# Chuyển đổi skip-gram thành chỉ số\n",
    "indexed_skip_grams = []\n",
    "for center, context in skip_gram_data:\n",
    "    if center in vocabulary and context in vocabulary:\n",
    "        indexed_skip_grams.append((vocabulary[center], vocabulary[context]))\n",
    "\n",
    "print(f\"Số lượng Skip-Gram sau khi chuyển đổi thành chỉ số: {len(indexed_skip_grams)}\")\n",
    "\n",
    "# Lưu Skip-Gram thành chỉ số vào file\n",
    "with open('skip_gram_pairs.txt', 'w', encoding='utf-8') as f:\n",
    "    for center_idx, context_idx in indexed_skip_grams:\n",
    "        f.write(f\"{center_idx} {context_idx}\\n\")\n",
    "\n",
    "print(\"Lưu dữ liệu Skip-Gram hoàn tất.\")"
   ]
  },
  {
   "cell_type": "code",
   "execution_count": null,
   "id": "babd7a2c-d963-433c-a050-ae4290dd4659",
   "metadata": {
    "id": "babd7a2c-d963-433c-a050-ae4290dd4659"
   },
   "outputs": [],
   "source": [
    "import numpy as np\n",
    "import random\n",
    "import matplotlib.pyplot as plt\n",
    "\n",
    "# Đọc dữ liệu từ file skip-gram pairs\n",
    "def read_skip_gram_pairs(file_path):\n",
    "    pairs = []\n",
    "    with open(file_path, 'r', encoding='utf-8') as f:\n",
    "        for line in f:\n",
    "            center_idx, context_idx = map(int, line.strip().split())\n",
    "            pairs.append((center_idx, context_idx))\n",
    "    return pairs\n",
    "\n",
    "# Đọc từ điển (vocabulary)\n",
    "def read_vocabulary(file_path):\n",
    "    word_to_idx = {}\n",
    "    idx_to_word = {}\n",
    "    with open(file_path, 'r', encoding='utf-8') as f:\n",
    "        for line in f:\n",
    "            word, idx, _ = line.strip().split()\n",
    "            word_to_idx[word] = int(idx)\n",
    "            idx_to_word[int(idx)] = word\n",
    "    return word_to_idx, idx_to_word\n",
    "\n",
    "# Đọc dữ liệu\n",
    "skip_gram_pairs = read_skip_gram_pairs('skip_gram_pairs.txt')\n",
    "word_to_idx, idx_to_word = read_vocabulary('vocabulary.txt')\n",
    "\n",
    "vocab_size = len(word_to_idx)\n",
    "embedding_dim = 100  # Kích thước của vector nhúng"
   ]
  },
  {
   "cell_type": "code",
   "execution_count": null,
   "id": "e9e546df-4ead-4329-a325-737b4f555290",
   "metadata": {
    "id": "e9e546df-4ead-4329-a325-737b4f555290"
   },
   "outputs": [],
   "source": [
    "# Hàm softmax cho batch\n",
    "def softmax_batch(x):\n",
    "    exp_x = np.exp(x - np.max(x, axis=-1, keepdims=True))  # Tránh tràn số\n",
    "    return exp_x / np.sum(exp_x, axis=-1, keepdims=True)\n",
    "\n",
    "# Hàm cross-entropy loss\n",
    "def cross_entropy_loss(y_true, y_pred):\n",
    "    epsilon = 1e-15  # Để tránh log(0)\n",
    "    y_pred = np.clip(y_pred, epsilon, 1 - epsilon)\n",
    "    return -np.sum(y_true * np.log(y_pred))  # Cross-entropy"
   ]
  },
  {
   "cell_type": "code",
   "execution_count": null,
   "id": "453e3be7-ce5f-4377-a037-764c80605ee7",
   "metadata": {
    "id": "453e3be7-ce5f-4377-a037-764c80605ee7"
   },
   "outputs": [],
   "source": [
    "def train_skipgram_model(skip_gram_pairs, W_in, W_out, vocab_size, embedding_dim, epochs=10, batch_size=64, learning_rate=0.01):\n",
    "    losses = []\n",
    "    for epoch in range(epochs):\n",
    "        total_loss = 0\n",
    "        random.shuffle(skip_gram_pairs)\n",
    "\n",
    "        # Huấn luyện với batch_size\n",
    "        for i in range(0, len(skip_gram_pairs), batch_size):\n",
    "            batch = skip_gram_pairs[i:i+batch_size]\n",
    "            loss = 0\n",
    "            grad_W_in = np.zeros_like(W_in)\n",
    "            grad_W_out = np.zeros_like(W_out)\n",
    "\n",
    "            # Vector hóa tính toán cho toàn bộ batch\n",
    "            center_idx_batch = [center_idx for center_idx, _ in batch]\n",
    "            context_idx_batch = [context_idx for _, context_idx in batch]\n",
    "\n",
    "            center_vec_batch = W_in[center_idx_batch]  # Ma trận nhúng của center\n",
    "            context_vec_batch = W_out[:, context_idx_batch]  # Ma trận của context\n",
    "\n",
    "            # Tính toán xác suất softmax cho tất cả các cặp center-context trong batch\n",
    "            predictions_batch = softmax_batch(np.dot(center_vec_batch, W_out))  # Áp dụng softmax trên toàn bộ batch\n",
    "\n",
    "            # Cập nhật mất mát\n",
    "            for idx, (center_idx, context_idx) in enumerate(batch):\n",
    "                target = np.zeros(vocab_size)\n",
    "                target[context_idx] = 1\n",
    "                loss += cross_entropy_loss(target, predictions_batch[idx])\n",
    "\n",
    "                # Tính gradient\n",
    "                error = predictions_batch[idx] - target\n",
    "                grad_W_in[center_idx] += np.dot(error, W_out.T)\n",
    "                # Fix: Sum the gradient over the vocabulary dimension before updating grad_W_out\n",
    "                grad_W_out[:, context_idx] += np.sum(center_vec_batch[idx] * error[:, np.newaxis], axis=0)  # Cập nhật cho từng context\n",
    "\n",
    "            # Cập nhật trọng số\n",
    "            W_in -= learning_rate * grad_W_in\n",
    "            W_out -= learning_rate * grad_W_out\n",
    "            total_loss += loss\n",
    "\n",
    "        losses.append(total_loss / len(skip_gram_pairs))\n",
    "        print(f\"Epoch {epoch + 1}/{epochs}, Loss: {total_loss / len(skip_gram_pairs)}\")\n",
    "\n",
    "    return W_in, W_out, losses"
   ]
  },
  {
   "cell_type": "code",
   "execution_count": null,
   "id": "f04f83fa-0554-4e3f-ba42-ed05bd84556b",
   "metadata": {
    "colab": {
     "base_uri": "https://localhost:8080/",
     "height": 646
    },
    "id": "f04f83fa-0554-4e3f-ba42-ed05bd84556b",
    "outputId": "4f608710-439c-4fa2-850e-be0abaebe886"
   },
   "outputs": [
    {
     "name": "stdout",
     "output_type": "stream",
     "text": [
      "Epoch 1/10, Loss: 9.122459724370344\n",
      "Epoch 2/10, Loss: 9.091591336000509\n",
      "Epoch 3/10, Loss: 9.065874993354086\n",
      "Epoch 4/10, Loss: 9.043495221531531\n",
      "Epoch 5/10, Loss: 9.02356882315475\n",
      "Epoch 6/10, Loss: 9.00562885754012\n",
      "Epoch 7/10, Loss: 8.989316880185468\n",
      "Epoch 8/10, Loss: 8.974323331357654\n",
      "Epoch 9/10, Loss: 8.960404832173785\n",
      "Epoch 10/10, Loss: 8.947380553439709\n"
     ]
    },
    {
     "data": {
      "image/png": "[encoded data removed]",
      "text/plain": [
       "<Figure size 640x480 with 1 Axes>"
      ]
     },
     "metadata": {},
     "output_type": "display_data"
    }
   ],
   "source": [
    "# Khởi tạo ma trận nhúng và trọng số đầu ra\n",
    "W_in = np.random.randn(vocab_size, embedding_dim) / np.sqrt(vocab_size)\n",
    "W_out = np.random.randn(embedding_dim, vocab_size) / np.sqrt(embedding_dim)\n",
    "\n",
    "# Huấn luyện mô hình\n",
    "W_in, W_out, losses = train_skipgram_model(skip_gram_pairs, W_in, W_out, vocab_size, embedding_dim, epochs=10, batch_size=15000, learning_rate=0.01)\n",
    "\n",
    "# Vẽ biểu đồ mất mát\n",
    "plt.plot(losses)\n",
    "plt.xlabel('Epochs')\n",
    "plt.ylabel('Loss')\n",
    "plt.title('Loss over Epochs')\n",
    "plt.show()"
   ]
  },
  {
   "cell_type": "code",
   "execution_count": null,
   "id": "c711e7c6-7ac7-433e-8904-b9e8b13547f3",
   "metadata": {
    "colab": {
     "base_uri": "https://localhost:8080/"
    },
    "id": "c711e7c6-7ac7-433e-8904-b9e8b13547f3",
    "outputId": "7e70e190-b9e2-4820-d73c-7f6c87f2d8c1"
   },
   "outputs": [
    {
     "name": "stdout",
     "output_type": "stream",
     "text": [
      "Mô hình đã được lưu vào skip_gram_model.pkl\n"
     ]
    }
   ],
   "source": [
    "import pickle\n",
    "\n",
    "# Lưu mô hình vào file\n",
    "def save_model(W_in, W_out, word_to_idx, idx_to_word, file_path='skip_gram_model.pkl'):\n",
    "    model = {\n",
    "        'W_in': W_in,\n",
    "        'W_out': W_out,\n",
    "        'word_to_idx': word_to_idx,\n",
    "        'idx_to_word': idx_to_word\n",
    "    }\n",
    "    with open(file_path, 'wb') as f:\n",
    "        pickle.dump(model, f)\n",
    "    print(f\"Mô hình đã được lưu vào {file_path}\")\n",
    "\n",
    "# Gọi hàm lưu mô hình\n",
    "save_model(W_in, W_out, word_to_idx, idx_to_word, file_path='skip_gram_model.pkl')\n"
   ]
  },
  {
   "cell_type": "code",
   "execution_count": null,
   "id": "t51XqAxe9xAn",
   "metadata": {
    "colab": {
     "base_uri": "https://localhost:8080/"
    },
    "id": "t51XqAxe9xAn",
    "outputId": "2fc9ff55-3c29-49a4-8961-4af9bedfd607"
   },
   "outputs": [
    {
     "name": "stdout",
     "output_type": "stream",
     "text": [
      "Mô hình đã được tải từ skip_gram_model.pkl\n"
     ]
    }
   ],
   "source": [
    "# Tải mô hình từ file\n",
    "def load_model(file_path='skip_gram_model.pkl'):\n",
    "    with open(file_path, 'rb') as f:\n",
    "        model = pickle.load(f)\n",
    "    print(f\"Mô hình đã được tải từ {file_path}\")\n",
    "    return model['W_in'], model['W_out'], model['word_to_idx'], model['idx_to_word']\n",
    "\n",
    "# Gọi hàm tải mô hình\n",
    "W_in_loaded, W_out_loaded, word_to_idx_loaded, idx_to_word_loaded = load_model('skip_gram_model.pkl')\n"
   ]
  },
  {
   "cell_type": "code",
   "execution_count": null,
   "id": "h8fkeGWG9zgb",
   "metadata": {
    "colab": {
     "base_uri": "https://localhost:8080/"
    },
    "id": "h8fkeGWG9zgb",
    "outputId": "6df4480d-e0e4-4524-c927-1b8265d043c7"
   },
   "outputs": [
    {
     "name": "stdout",
     "output_type": "stream",
     "text": [
      "Kích thước W_in: (9275, 100)\n",
      "Kích thước W_out: (100, 9275)\n"
     ]
    }
   ],
   "source": [
    "print(\"Kích thước W_in:\", W_in_loaded.shape)\n",
    "print(\"Kích thước W_out:\", W_out_loaded.shape)"
   ]
  },
  {
   "cell_type": "code",
   "execution_count": null,
   "id": "xaWperQYArhH",
   "metadata": {
    "id": "xaWperQYArhH"
   },
   "outputs": [],
   "source": [
    "# Hàm tính cosine similarity\n",
    "def cosine_similarity(vec1, vec2):\n",
    "    return np.dot(vec1, vec2) / (np.linalg.norm(vec1) * np.linalg.norm(vec2))\n",
    "\n",
    "# Hàm đánh giá các cặp từ\n",
    "def evaluate_embeddings(word_pairs, W_in, word_to_idx):\n",
    "    results = []\n",
    "    for word1, word2 in word_pairs:\n",
    "        if word1 in word_to_idx and word2 in word_to_idx:\n",
    "            vec1 = W_in[word_to_idx[word1]]\n",
    "            vec2 = W_in[word_to_idx[word2]]\n",
    "            similarity = cosine_similarity(vec1, vec2)\n",
    "            results.append((word1, word2, similarity))\n",
    "        else:\n",
    "            results.append((word1, word2, None))\n",
    "    return results\n"
   ]
  },
  {
   "cell_type": "code",
   "execution_count": null,
   "id": "RC3HDsL190k6",
   "metadata": {
    "colab": {
     "base_uri": "https://localhost:8080/"
    },
    "id": "RC3HDsL190k6",
    "outputId": "138ba57a-f509-4103-d624-aa0f1a0bf9ef"
   },
   "outputs": [
    {
     "name": "stdout",
     "output_type": "stream",
     "text": [
      "Cosine similarity giữa 'trái_cây' và 'hoa_quả': 0.4568\n",
      "Cosine similarity giữa 'đàn_ông' và 'con_trai': 0.4292\n",
      "Cosine similarity giữa 'vui' và 'hạnh_phúc': 0.4030\n",
      "Cosine similarity giữa 'bạn_bè' và 'kẻ_thù': -0.0864\n",
      "Cosine similarity giữa 'phá_hủy' và 'tái_tạo': -0.0252\n",
      "Cosine similarity giữa 'phổ_biến' và 'khác_biệt': -0.0754\n"
     ]
    }
   ],
   "source": [
    "word_pairs = [\n",
    "    (\"trái_cây\", \"hoa_quả\"),  # Đồng nghĩa\n",
    "    (\"đàn_ông\", \"con_trai\"),  # Đồng nghĩa\n",
    "    (\"vui\", \"hạnh_phúc\"),     # Đồng nghĩa\n",
    "    (\"bạn_bè\", \"kẻ_thù\"),     # Trái nghĩa\n",
    "    (\"phá_hủy\", \"tái_tạo\"),   # Trái nghĩa\n",
    "    (\"phổ_biến\", \"khác_biệt\") # Trái nghĩa\n",
    "]\n",
    "\n",
    "# Đánh giá embeddings\n",
    "results = evaluate_embeddings(word_pairs, W_in_loaded, word_to_idx_loaded)\n",
    "\n",
    "# In kết quả\n",
    "for word1, word2, similarity in results:\n",
    "    if similarity is not None:\n",
    "        print(f\"Cosine similarity giữa '{word1}' và '{word2}': {similarity:.4f}\")\n",
    "    else:\n",
    "        print(f\"Từ '{word1}' hoặc '{word2}' không tồn tại trong từ điển.\")"
   ]
  }
 ],
 "metadata": {
  "colab": {
   "gpuType": "T4",
   "provenance": []
  },
  "kernelspec": {
   "display_name": "Python 3 (ipykernel)",
   "language": "python",
   "name": "python3"
  },
  "language_info": {
   "codemirror_mode": {
    "name": "ipython",
    "version": 3
   },
   "file_extension": ".py",
   "mimetype": "text/x-python",
   "name": "python",
   "nbconvert_exporter": "python",
   "pygments_lexer": "ipython3",
   "version": "3.12.7"
  }
 },
 "nbformat": 4,
 "nbformat_minor": 5
}
